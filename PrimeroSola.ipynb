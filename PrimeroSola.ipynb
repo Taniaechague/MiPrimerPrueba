{
 "cells": [
  {
   "cell_type": "code",
   "execution_count": 1,
   "id": "483beadb-1bbe-4903-9e9d-e10badcc965f",
   "metadata": {
    "tags": []
   },
   "outputs": [
    {
     "name": "stdout",
     "output_type": "stream",
     "text": [
      "Hello World\n"
     ]
    }
   ],
   "source": [
    "print(\"Hello World\")"
   ]
  },
  {
   "cell_type": "code",
   "execution_count": 2,
   "id": "fbeb6d76-1a1e-4a86-8c13-4fbceb64f4a9",
   "metadata": {
    "tags": []
   },
   "outputs": [
    {
     "data": {
      "text/plain": [
       "2"
      ]
     },
     "execution_count": 2,
     "metadata": {},
     "output_type": "execute_result"
    }
   ],
   "source": [
    "# Print an integer\n",
    "2"
   ]
  },
  {
   "cell_type": "code",
   "execution_count": 3,
   "id": "deb1aaeb-8862-48bb-9793-80aa03cb6328",
   "metadata": {
    "tags": []
   },
   "outputs": [
    {
     "data": {
      "text/plain": [
       "4"
      ]
     },
     "execution_count": 3,
     "metadata": {},
     "output_type": "execute_result"
    }
   ],
   "source": [
    "# Otras operaciones\n",
    "2+2"
   ]
  },
  {
   "cell_type": "code",
   "execution_count": 4,
   "id": "2d9f06c9-d858-409b-a4af-062d62c633fd",
   "metadata": {
    "tags": []
   },
   "outputs": [
    {
     "data": {
      "text/plain": [
       "9"
      ]
     },
     "execution_count": 4,
     "metadata": {},
     "output_type": "execute_result"
    }
   ],
   "source": [
    "# Otras operaciones\n",
    "2*5+5-2*3"
   ]
  },
  {
   "cell_type": "markdown",
   "id": "0abe7a99-8955-4034-a110-6bf0d3c19795",
   "metadata": {},
   "source": [
    "**# Evaluating Basic Arithmetic Expression**"
   ]
  },
  {
   "cell_type": "markdown",
   "id": "2a628aee-8349-436d-b637-7842e8eeb1be",
   "metadata": {},
   "source": [
    "# **Evaluating Basic Arithmetic Expression**"
   ]
  },
  {
   "cell_type": "code",
   "execution_count": 5,
   "id": "9c01c8db-da92-4349-87d6-3b5032e2a539",
   "metadata": {
    "tags": []
   },
   "outputs": [
    {
     "data": {
      "text/plain": [
       "100"
      ]
     },
     "execution_count": 5,
     "metadata": {},
     "output_type": "execute_result"
    }
   ],
   "source": [
    "(20+5)*4"
   ]
  },
  {
   "cell_type": "markdown",
   "id": "6b5111f5-be5c-4b54-a12d-f7847cd3a4b7",
   "metadata": {},
   "source": [
    "## Write your markdown here\n",
    "\"Let us explore python without coding.\""
   ]
  },
  {
   "cell_type": "code",
   "execution_count": 6,
   "id": "75d31f59-3c5c-4796-87d2-b89d7167d596",
   "metadata": {
    "tags": []
   },
   "outputs": [
    {
     "data": {
      "text/plain": [
       "4"
      ]
     },
     "execution_count": 6,
     "metadata": {},
     "output_type": "execute_result"
    }
   ],
   "source": [
    "## Click after 1+1 in this cell and split it\n",
    "1+1\n",
    "2*2"
   ]
  },
  {
   "cell_type": "markdown",
   "id": "efd85040-2e49-40ca-8c51-3b1b93f3c189",
   "metadata": {},
   "source": [
    "## Click after 1+1 in this cell and split it\n",
    "1+1"
   ]
  },
  {
   "cell_type": "markdown",
   "id": "f05613d1-49ab-4d5b-ac65-617343c65b37",
   "metadata": {},
   "source": [
    "2*2"
   ]
  },
  {
   "cell_type": "markdown",
   "id": "8f7d197e-d29a-4096-80fb-c5dfd3794a3a",
   "metadata": {},
   "source": [
    "# Execute it as a markdown cell\n",
    "# H1: This is a level 1 Heading\n",
    "## H2: This is a level 2 Heading\n",
    "### H3: This is a level 3 Heading\n",
    "#### H4: This is a level 4 Heading\n",
    "##### H5: This is a level 5 Heading\n",
    "###### H6: This is a level 6 Heading"
   ]
  },
  {
   "cell_type": "markdown",
   "id": "eb89353c-feaf-418a-8d2e-f65d4d897342",
   "metadata": {},
   "source": [
    "# Execute it as a markdown cell\n",
    "**Bold Text using asterisks.**  \n",
    "__Bold Text using underscores.__"
   ]
  },
  {
   "cell_type": "markdown",
   "id": "31908871-92a2-4965-a56e-afb93f356c21",
   "metadata": {},
   "source": [
    "# Execute it as a markdown cell\n",
    "*Text in italics using asterisk.*\n",
    "_Text in italics using underscore._"
   ]
  },
  {
   "cell_type": "markdown",
   "id": "a2af21d2-f680-4f79-b4ee-43f34682ccd2",
   "metadata": {},
   "source": [
    "*Text in italics using asterisk.*"
   ]
  },
  {
   "cell_type": "markdown",
   "id": "2b08bb37-ea38-4c58-a35a-4bdd2535232f",
   "metadata": {},
   "source": [
    "_Text in italics using underscore._"
   ]
  },
  {
   "cell_type": "code",
   "execution_count": null,
   "id": "389babf0-7075-4856-a341-cf6d43022c55",
   "metadata": {},
   "outputs": [],
   "source": [
    "# Bold and Italic text"
   ]
  },
  {
   "cell_type": "markdown",
   "id": "fc599fba-4c6a-43ae-93cb-a9768fbd1075",
   "metadata": {
    "tags": []
   },
   "source": [
    "***Bold and Italic text using asterisks.***  "
   ]
  },
  {
   "cell_type": "markdown",
   "id": "a78e7526-9807-4506-9a70-1cd0ddcc292f",
   "metadata": {},
   "source": [
    "___Bold and Italic text using underscores.___"
   ]
  },
  {
   "cell_type": "markdown",
   "id": "b0694f47-7eac-4947-bfcb-59b700e019cc",
   "metadata": {},
   "source": [
    "# Hyperlinks ----- [Nombre del link] (link)\n",
    "[Skills Network](https://skills.network/) "
   ]
  },
  {
   "cell_type": "markdown",
   "id": "d7444bf6-fc6c-4a21-9e95-1b333ba85cb3",
   "metadata": {},
   "source": [
    "# Images Nombre de la imagen: ![alt text] (Path)\n",
    "LOGO: ![This is the skills network logo](https://cf-courses-data.s3.us.cloud-object-storage.appdomain.cloud/assets/logos/SN_web_lightmode.png)"
   ]
  },
  {
   "cell_type": "markdown",
   "id": "8db0cb5e-0cfd-4d28-904b-d0c21c731b58",
   "metadata": {},
   "source": [
    "# Create Tables in Markdown\n",
    "| Country Name | Capital |\n",
    "| -------------| ------ |\n",
    "| United States | Washington DC |\n",
    "| Australia | Canberra |\n",
    "| India | New Delhi |"
   ]
  },
  {
   "cell_type": "markdown",
   "id": "73d389d7-a947-4456-955f-2b351728a54b",
   "metadata": {},
   "source": [
    "# Create unordered lists in Markdown\n",
    "\n",
    "- First item using dashes\n",
    "- Second item using dashes\n",
    "- Third item using dashes\n",
    "- Fourth item using dashes\n",
    "\n",
    "* First item using asterisks\n",
    "* Second item using asterisks\n",
    "* Third item using asterisks\n",
    "* Fourth item using asterisks\n",
    "\n",
    "+ First item using plus\n",
    "+ Second item using plus\n",
    "+ Third item using plus\n",
    "+ Fourth item using plus"
   ]
  },
  {
   "cell_type": "markdown",
   "id": "6b0ef17c-9d09-4171-ba2a-d0cffb8170d7",
   "metadata": {},
   "source": [
    "# Create ordered lists in Markdown\n",
    "1. First item\n",
    "2. Second item\n",
    "3. Third item\n",
    "4. Fourth item"
   ]
  },
  {
   "cell_type": "markdown",
   "id": "067c78dd-d36e-4967-8a52-65362392787f",
   "metadata": {},
   "source": [
    "# Task 1: Create H2 level heading as Welcome to Python programming and add the image from the following url with alt text as This is SN labs New Launcher\n",
    "\n",
    "## Welcome to Python programming\n",
    "\n",
    " ![This is SN labs New Launcher](https://cf-courses-data.s3.us.cloud-object-storage.appdomain.cloud/IBMDeveloperSkillsNetwork-DS0105EN-SkillsNetwork/labs/Labs_V4/images/Launcher.png)"
   ]
  },
  {
   "cell_type": "markdown",
   "id": "3fc2aa21-c63a-4a3b-8e35-1950ddb09d2a",
   "metadata": {},
   "source": [
    "# Task 2: Create a hyperlink to https://www.coursera.org/learn/open-source-tools-for-data-science/home with the Name of the link as \"Tools For Data Science\".\n",
    "\n",
    "[Tools For Data Science](https://www.coursera.org/learn/open-source-tools-for-data-science/home)"
   ]
  },
  {
   "cell_type": "markdown",
   "id": "eda020a8-4f9b-46ab-863e-a94c40917397",
   "metadata": {},
   "source": [
    "# Task 3: Create the following table:\n",
    "\n",
    "|Fruit | Quantity (Kg) | Price (in Rupee)|\n",
    "|------|---------------|-----------------|\n",
    "|Apple|2|500|\n",
    "|Orange|1|200|\n",
    "|Mango|3|1000|\n",
    "|Grapes|2|400|"
   ]
  },
  {
   "cell_type": "code",
   "execution_count": null,
   "id": "7597a6b7-62b3-45b9-81cd-6dd284818756",
   "metadata": {},
   "outputs": [],
   "source": []
  }
 ],
 "metadata": {
  "kernelspec": {
   "display_name": "Python 3 (ipykernel)",
   "language": "python",
   "name": "python3"
  },
  "language_info": {
   "codemirror_mode": {
    "name": "ipython",
    "version": 3
   },
   "file_extension": ".py",
   "mimetype": "text/x-python",
   "name": "python",
   "nbconvert_exporter": "python",
   "pygments_lexer": "ipython3",
   "version": "3.11.5"
  }
 },
 "nbformat": 4,
 "nbformat_minor": 5
}
